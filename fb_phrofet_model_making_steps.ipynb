{
  "nbformat": 4,
  "nbformat_minor": 0,
  "metadata": {
    "colab": {
      "name": "fb_phrofet_model_making_steps.ipynb",
      "provenance": [],
      "collapsed_sections": [],
      "authorship_tag": "ABX9TyMWOGSACNQQKLNHSVkJyG7f",
      "include_colab_link": true
    },
    "kernelspec": {
      "name": "python3",
      "display_name": "Python 3"
    },
    "language_info": {
      "name": "python"
    }
  },
  "cells": [
    {
      "cell_type": "markdown",
      "metadata": {
        "id": "view-in-github",
        "colab_type": "text"
      },
      "source": [
        "<a href=\"https://colab.research.google.com/github/amitroyal8755/time_series/blob/main/fb_phrofet_model_making_steps.ipynb\" target=\"_parent\"><img src=\"https://colab.research.google.com/assets/colab-badge.svg\" alt=\"Open In Colab\"/></a>"
      ]
    },
    {
      "cell_type": "code",
      "metadata": {
        "id": "KnYOFDxZokgV"
      },
      "source": [
        ""
      ],
      "execution_count": null,
      "outputs": []
    },
    {
      "cell_type": "markdown",
      "metadata": {
        "id": "6qGfoJ3dorKV"
      },
      "source": [
        "1.import the library and data,import fbprophet,pandas,matplotlib,numpy as well\n",
        "\n",
        "\n",
        "2.plot the data\n",
        "\n",
        "\n",
        "3.change the columns name with the help of \n",
        "\n",
        ">                      :: df.columns = ['ds','y']\n",
        "\n",
        "\n",
        "\n",
        "\n",
        "4.check and drop the the null values if it is there\n",
        "\n",
        "\n",
        "5.check the types of columns and convert into date columns in ::\n",
        "                \n",
        "\n",
        ">                      --df['ds'] = pd.to_datetime(df['ds'])\n",
        "\n",
        "\n",
        "6. import the prophet with the help of--> from fbprophet import Prophet\n",
        "7.make the model and gives to the parameter --->\n",
        "\n",
        "\n",
        "> \n",
        "                             model=Prophet(weekly_seasonality=True,daily_seasonality=True,)\n",
        "\n",
        "\n",
        "\n",
        "\n",
        "\n",
        "\n",
        "\n",
        "\n"
      ]
    },
    {
      "cell_type": "markdown",
      "metadata": {
        "id": "efdtHkLDoqeG"
      },
      "source": [
        "8.make the column fit\n",
        "\n",
        ">                        model.fit(df)\n",
        "\n",
        "9.### Create future dates of 365 days(here you can choice the date whatever you \n",
        "\n",
        "  want to set there \n",
        "\n",
        ">                          future_dates=model.make_future_dataframe(periods=365)\n",
        "\n",
        " 10.do the predication and gives the dates for predication that you create with \n",
        "\n",
        "    step 9 that is helpful \n",
        "\n",
        "11.plot the predication graph and componants \n",
        "\n",
        "          with the help of model.types tab button its provides you hints\n",
        "\n"
      ]
    },
    {
      "cell_type": "code",
      "metadata": {
        "id": "Zi3ZJ7kNsJbl"
      },
      "source": [
        ""
      ],
      "execution_count": null,
      "outputs": []
    }
  ]
}